{
 "cells": [
  {
   "cell_type": "markdown",
   "metadata": {},
   "source": [
    "# DECODE - General Introduction\n",
    "If you plan to install and use DECODE locally we recommend going through this notebook to get familiar with the framework.\n",
    "\n",
    "We make highly use of the CUDA accelerated library PyTorch which is used internally almost everywhere."
   ]
  },
  {
   "cell_type": "code",
   "execution_count": 2,
   "metadata": {},
   "outputs": [
    {
     "name": "stdout",
     "output_type": "stream",
     "text": [
      "DECODE version: vINVALID-recent-0.10.0\n"
     ]
    }
   ],
   "source": [
    "import decode\n",
    "import decode.utils  # interfaces to outside world which are not loaded by default\n",
    "import torch\n",
    "\n",
    "print(f\"DECODE version: {decode.utils.bookkeeping.decode_state()}\")"
   ]
  },
  {
   "cell_type": "markdown",
   "metadata": {},
   "source": [
    "## EmitterSet"
   ]
  },
  {
   "cell_type": "markdown",
   "metadata": {},
   "source": [
    "At the core of DECODE is the EmitterSet. It has a lot of important functionalities which one should know about. In an interactive Python session (such as this notebook or in the console) you can get more information of all implementations by `help([...])`, e.g.\n",
    "> `help(decode.EmitterSet)`\n"
   ]
  },
  {
   "cell_type": "code",
   "execution_count": 4,
   "metadata": {},
   "outputs": [
    {
     "name": "stdout",
     "output_type": "stream",
     "text": [
      "EmitterSet\n",
      "::num emitters: 2\n",
      "::xy unit: px\n",
      "::px size: tensor([100., 100.])\n",
      "::frame range: 0 - 100\n",
      "::spanned volume: [15. 10.  0.] - [ 30.  15. 500.]\n"
     ]
    }
   ],
   "source": [
    "# construct an EmitterSet\n",
    "em = decode.EmitterSet(\n",
    "    xyz=torch.tensor([[15., 15., 0.], [30., 10., 500.]]),\n",
    "    phot=torch.tensor([1000, 500.]),\n",
    "    frame_ix=torch.tensor([0, 100]),\n",
    "    xy_unit='px', # z is always in nm\n",
    "    px_size=(100., 100.))  # not strictly needed but recommended in order to access xyz in both \n",
    "\n",
    "print(em)  # get some info on the set of emitters"
   ]
  },
  {
   "cell_type": "markdown",
   "metadata": {},
   "source": [
    "The coordinates can (and should) explicitly accessed with a unit as em.xyz_px or em.xyz_nm"
   ]
  },
  {
   "cell_type": "code",
   "execution_count": 5,
   "metadata": {},
   "outputs": [
    {
     "data": {
      "text/plain": [
       "tensor([[1500., 1500.,    0.],\n",
       "        [3000., 1000.,  500.]])"
      ]
     },
     "execution_count": 5,
     "metadata": {},
     "output_type": "execute_result"
    }
   ],
   "source": [
    "em.xyz_nm"
   ]
  },
  {
   "cell_type": "code",
   "execution_count": 6,
   "metadata": {},
   "outputs": [
    {
     "name": "stdout",
     "output_type": "stream",
     "text": [
      "EmitterSet\n",
      "::num emitters: 2\n",
      "::xy unit: nm\n",
      "::px size: tensor([100., 100.])\n",
      "::frame range: 0 - 100\n",
      "::spanned volume: [0.22465837 0.19053864 0.38581795] - [0.6771839  0.7634208  0.51386875]\n"
     ]
    }
   ],
   "source": [
    "# you can also set coordinates in a new unit which will lead to automatic conversion\n",
    "em.xyz_nm = torch.rand(2, 3)\n",
    "\n",
    "print(em)  # you see now that the internal storage has changed from px units to nm"
   ]
  },
  {
   "cell_type": "markdown",
   "metadata": {},
   "source": [
    "### Save and Load Emitters\n",
    "There a different options to save EmitterSets.\n",
    "\n",
    "We support:\n",
    "- HDF5 files: Well suited for large file, supported by many frameworks\n",
    "- PT files: Pytorch native saving. Useful for debugging or fast i/o. Not for longterm storage.\n",
    "- CSV files: Human readable and compatible with most other frameworks Compatible with most other frameworks, however highly discouraged if frequently used.\n",
    "\n",
    "All of these formats are derived automatically by the file extension, i.e."
   ]
  },
  {
   "cell_type": "code",
   "execution_count": 7,
   "metadata": {
    "jupyter": {
     "outputs_hidden": false
    },
    "pycharm": {
     "name": "#%%\n"
    }
   },
   "outputs": [],
   "source": [
    "em.save('emitter.h5')  # or '.csv' or '.pt'"
   ]
  },
  {
   "cell_type": "code",
   "execution_count": 8,
   "metadata": {
    "jupyter": {
     "outputs_hidden": false
    },
    "pycharm": {
     "name": "#%%\n"
    }
   },
   "outputs": [],
   "source": [
    "# load EmitterSet from file\n",
    "em_clone = decode.EmitterSet.load('emitter.h5')"
   ]
  },
  {
   "cell_type": "code",
   "execution_count": 9,
   "metadata": {
    "jupyter": {
     "outputs_hidden": false
    },
    "pycharm": {
     "name": "#%%\n"
    }
   },
   "outputs": [
    {
     "name": "stdout",
     "output_type": "stream",
     "text": [
      "Decode meta information at the time of saving: {'version': 'vINVALID-recent-0.10.0'}\n"
     ]
    }
   ],
   "source": [
    "# to retrieve all information that is stored in the file, you can call the loaders explicitley\n",
    "em_data, em_meta, decode_meta = decode.utils.emitter_io.load_h5('emitter.h5')  # load_h5 / load_torch / load_csv\n",
    "em_reload = decode.EmitterSet(**em_data, **em_meta)\n",
    "\n",
    "print(f\"Decode meta information at the time of saving: {decode_meta}\")"
   ]
  },
  {
   "cell_type": "markdown",
   "metadata": {},
   "source": [
    "It is possible to load  csv files that deviate in their CSV header and columns. You\n",
    "need to specify a mapping with keys at least: `x, y, z, phot,\n",
    "frame_ix`\n",
    ">We provide some 'batteries included' mappings, e.g. for the superres fight club challenge format."
   ]
  },
  {
   "cell_type": "code",
   "execution_count": 10,
   "metadata": {},
   "outputs": [
    {
     "data": {
      "text/plain": [
       "{'x': 'xnano',\n",
       " 'y': 'ynano',\n",
       " 'z': 'znano',\n",
       " 'frame_ix': 'frame',\n",
       " 'phot': 'intensity ',\n",
       " 'id': 'Ground-truth'}"
      ]
     },
     "execution_count": 10,
     "metadata": {},
     "output_type": "execute_result"
    }
   ],
   "source": [
    "# this is the challenge mapping\n",
    "decode.utils.emitter_io.challenge_mapping"
   ]
  },
  {
   "cell_type": "code",
   "execution_count": 11,
   "metadata": {},
   "outputs": [],
   "source": [
    "# uncomment the following lines and update the path if you have the challenge activations at hand\n",
    "\n",
    "# em_challenge = decode.utils.emitter_io.load_csv('path_to_challenge_activations.csv',\n",
    "#                                                 mapping=decode.utils.emitter_io.challenge_mapping,\n",
    "#                                                 skiprows=0, line_em_meta=None, line_decode_meta=None)"
   ]
  },
  {
   "cell_type": "markdown",
   "metadata": {},
   "source": [
    "### Operators and Helpers on EmitterSets\n",
    "We implemented a couple of helpers for convenience"
   ]
  },
  {
   "cell_type": "code",
   "execution_count": 12,
   "metadata": {},
   "outputs": [],
   "source": [
    "# we support boolean indexing of emitters\n",
    "subset = em[[True, False]]\n",
    "\n",
    "# e.g. get emitter on specific frame\n",
    "em_sub = em[em.frame_ix == 0]\n",
    "\n",
    "# e.g. emitters with certain photon count\n",
    "em_bright = em[em.phot > 600.]"
   ]
  },
  {
   "cell_type": "code",
   "execution_count": 13,
   "metadata": {},
   "outputs": [
    {
     "data": {
      "text/plain": [
       "True"
      ]
     },
     "execution_count": 13,
     "metadata": {},
     "output_type": "execute_result"
    }
   ],
   "source": [
    "# check equality of two sets of emitters \n",
    "# warning: requires exact equality, i.e. even the order of localisations must be the same\n",
    "em == em_clone"
   ]
  },
  {
   "cell_type": "code",
   "execution_count": 14,
   "metadata": {},
   "outputs": [
    {
     "name": "stdout",
     "output_type": "stream",
     "text": [
      "EmitterSet\n",
      "::num emitters: 1\n",
      "::xy unit: nm\n",
      "::px size: tensor([100., 100.])\n",
      "::frame range: 0 - 0\n",
      "::spanned volume: [0.22465837 0.7634208  0.51386875] - [0.22465837 0.7634208  0.51386875]\n",
      "EmitterSet\n",
      "::num emitters: 1\n",
      "::xy unit: nm\n",
      "::px size: tensor([100., 100.])\n",
      "::frame range: 100 - 100\n",
      "::spanned volume: [0.6771839  0.19053864 0.38581795] - [0.6771839  0.19053864 0.38581795]\n"
     ]
    },
    {
     "data": {
      "text/plain": [
       "[None, None]"
      ]
     },
     "execution_count": 14,
     "metadata": {},
     "output_type": "execute_result"
    }
   ],
   "source": [
    "# iterate over emitters in set\n",
    "[print(e) for e in em]"
   ]
  },
  {
   "cell_type": "code",
   "execution_count": 15,
   "metadata": {},
   "outputs": [],
   "source": [
    "# split emitterset in frames, indices are inclusive, ix_low=0, ix_up=2 will output a list of length 3\n",
    "em_split = em.split_in_frames(ix_low=0, ix_up=10)  # outputs lists of EmitterSets per frame"
   ]
  },
  {
   "cell_type": "code",
   "execution_count": 16,
   "metadata": {
    "jupyter": {
     "outputs_hidden": false
    },
    "pycharm": {
     "name": "#%%\n"
    }
   },
   "outputs": [
    {
     "name": "stdout",
     "output_type": "stream",
     "text": [
      "3 splits of respective lengths [3, 3, 2].\n"
     ]
    }
   ],
   "source": [
    "# split emitterset in 3 eqaul chunks\n",
    "em = decode.RandomEmitterSet(8)\n",
    "em_split = em.chunks(3)\n",
    "\n",
    "print(f\"{len(em_split)} splits of respective lengths {[len(e) for e in em_split]}.\")"
   ]
  },
  {
   "cell_type": "code",
   "execution_count": null,
   "metadata": {},
   "outputs": [],
   "source": [
    "# concatenate multiple emittersets together\n",
    "em_cat = decode.EmitterSet.cat(em_split)"
   ]
  },
  {
   "cell_type": "markdown",
   "metadata": {},
   "source": [
    "### Sampling Emitters\n",
    "We provide some conveniences to sample or construct emitters"
   ]
  },
  {
   "cell_type": "code",
   "execution_count": 17,
   "metadata": {},
   "outputs": [
    {
     "name": "stdout",
     "output_type": "stream",
     "text": [
      "EmitterSet\n",
      "::num emitters: 200\n",
      "::xy unit: px\n",
      "::px size: None\n",
      "::frame range: 0 - 0\n",
      "::spanned volume: [0.1821804  0.01087189 0.2251091 ] - [31.981617 31.598711 31.641876]\n"
     ]
    }
   ],
   "source": [
    "em_random = decode.RandomEmitterSet(200)  # outputs 200 random emitters, see help(decode.RandomEmitterSet) for more information\n",
    "print(em_random)"
   ]
  },
  {
   "cell_type": "markdown",
   "metadata": {},
   "source": [
    "### Plotting Emitters in 2D and 3D"
   ]
  },
  {
   "cell_type": "code",
   "execution_count": 18,
   "metadata": {},
   "outputs": [
    {
     "data": {
      "image/png": "[encoded data removed]",
      "text/plain": [
       "<Figure size 432x288 with 1 Axes>"
      ]
     },
     "metadata": {
      "needs_background": "light"
     },
     "output_type": "display_data"
    },
    {
     "data": {
      "image/png": "[encoded data removed]",
      "text/plain": [
       "<Figure size 432x288 with 1 Axes>"
      ]
     },
     "metadata": {
      "needs_background": "light"
     },
     "output_type": "display_data"
    }
   ],
   "source": [
    "import matplotlib.pyplot as plt\n",
    "\n",
    "em_fuzzy = decode.RandomEmitterSet(200)\n",
    "\n",
    "decode.plot.PlotCoordinates(em_fuzzy.xyz_px).plot()\n",
    "plt.show()\n",
    "\n",
    "decode.plot.PlotCoordinates3D(em_fuzzy.xyz_px).plot()\n",
    "plt.show()"
   ]
  },
  {
   "cell_type": "code",
   "execution_count": null,
   "metadata": {},
   "outputs": [],
   "source": []
  }
 ],
 "metadata": {
  "kernelspec": {
   "display_name": "Python 3 (ipykernel)",
   "language": "python",
   "name": "python3"
  },
  "language_info": {
   "codemirror_mode": {
    "name": "ipython",
    "version": 3
   },
   "file_extension": ".py",
   "mimetype": "text/x-python",
   "name": "python",
   "nbconvert_exporter": "python",
   "pygments_lexer": "ipython3",
   "version": "3.8.10"
  }
 },
 "nbformat": 4,
 "nbformat_minor": 4
}
